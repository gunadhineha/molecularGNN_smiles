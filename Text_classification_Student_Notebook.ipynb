{
  "nbformat": 4,
  "nbformat_minor": 0,
  "metadata": {
    "colab": {
      "provenance": [],
      "include_colab_link": true
    },
    "kernelspec": {
      "name": "python3",
      "display_name": "Python 3"
    },
    "language_info": {
      "name": "python"
    },
    "accelerator": "GPU",
    "gpuClass": "standard"
  },
  "cells": [
    {
      "cell_type": "markdown",
      "metadata": {
        "id": "view-in-github",
        "colab_type": "text"
      },
      "source": [
        "<a href=\"https://colab.research.google.com/github/gunadhineha/molecularGNN_smiles/blob/master/Text_classification_Student_Notebook.ipynb\" target=\"_parent\"><img src=\"https://colab.research.google.com/assets/colab-badge.svg\" alt=\"Open In Colab\"/></a>"
      ]
    },
    {
      "cell_type": "code",
      "source": [
        "!pip install torchdata"
      ],
      "metadata": {
        "id": "jlzBPARjiLb-",
        "colab": {
          "base_uri": "https://localhost:8080/"
        },
        "outputId": "e2a6a2e1-5503-4cb6-9779-bf1863373f2f"
      },
      "execution_count": null,
      "outputs": [
        {
          "output_type": "stream",
          "name": "stdout",
          "text": [
            "Looking in indexes: https://pypi.org/simple, https://us-python.pkg.dev/colab-wheels/public/simple/\n",
            "Collecting torchdata\n",
            "  Downloading torchdata-0.5.1-cp39-cp39-manylinux_2_17_x86_64.manylinux2014_x86_64.whl (4.6 MB)\n",
            "\u001b[2K     \u001b[90m━━━━━━━━━━━━━━━━━━━━━━━━━━━━━━━━━━━━━━━━\u001b[0m \u001b[32m4.6/4.6 MB\u001b[0m \u001b[31m41.7 MB/s\u001b[0m eta \u001b[36m0:00:00\u001b[0m\n",
            "\u001b[?25hRequirement already satisfied: torch==1.13.1 in /usr/local/lib/python3.9/dist-packages (from torchdata) (1.13.1+cu116)\n",
            "Collecting portalocker>=2.0.0\n",
            "  Downloading portalocker-2.7.0-py2.py3-none-any.whl (15 kB)\n",
            "Requirement already satisfied: requests in /usr/local/lib/python3.9/dist-packages (from torchdata) (2.25.1)\n",
            "Requirement already satisfied: urllib3>=1.25 in /usr/local/lib/python3.9/dist-packages (from torchdata) (1.26.14)\n",
            "Requirement already satisfied: typing-extensions in /usr/local/lib/python3.9/dist-packages (from torch==1.13.1->torchdata) (4.5.0)\n",
            "Requirement already satisfied: idna<3,>=2.5 in /usr/local/lib/python3.9/dist-packages (from requests->torchdata) (2.10)\n",
            "Requirement already satisfied: certifi>=2017.4.17 in /usr/local/lib/python3.9/dist-packages (from requests->torchdata) (2022.12.7)\n",
            "Requirement already satisfied: chardet<5,>=3.0.2 in /usr/local/lib/python3.9/dist-packages (from requests->torchdata) (4.0.0)\n",
            "Installing collected packages: portalocker, torchdata\n",
            "Successfully installed portalocker-2.7.0 torchdata-0.5.1\n"
          ]
        }
      ]
    },
    {
      "cell_type": "code",
      "execution_count": null,
      "metadata": {
        "id": "drPlum1IgcQU"
      },
      "outputs": [],
      "source": [
        "import torch\n",
        "import torchtext\n",
        "from torchtext.datasets import AG_NEWS\n",
        "import torch.nn as nn\n",
        "import torch.nn.functional as F\n",
        "import os\n",
        "\n",
        "from torchtext.data.utils import get_tokenizer\n",
        "from torchtext.vocab import build_vocab_from_iterator\n",
        "from torch.utils.data import DataLoader\n",
        "from torch.nn.utils.rnn import pad_sequence"
      ]
    },
    {
      "cell_type": "code",
      "source": [
        "if not os.path.isdir('./.data'): os.mkdir('./.data')\n",
        "train_dataset, test_dataset = AG_NEWS(root='./.data')\n",
        "device = torch.device(\"cuda\" if torch.cuda.is_available() else \"cpu\")"
      ],
      "metadata": {
        "id": "jw_YygGhgl9n"
      },
      "execution_count": null,
      "outputs": []
    },
    {
      "cell_type": "code",
      "source": [
        "tokenizer = get_tokenizer('basic_english')\n",
        "\n",
        "def yield_tokens(data_iter):\n",
        "    for _, text in data_iter:\n",
        "        yield tokenizer(text)\n",
        "\n",
        "vocab = build_vocab_from_iterator(yield_tokens(train_dataset), specials=[\"<unk>\"])\n",
        "vocab.set_default_index(vocab[\"<unk>\"])\n",
        "train_dataset = [(text, label-1) for label, text in train_dataset]\n",
        "test_dataset = [(text, label-1) for label, text in test_dataset]"
      ],
      "metadata": {
        "id": "4bImGPn1kIbW"
      },
      "execution_count": null,
      "outputs": []
    },
    {
      "cell_type": "code",
      "source": [
        "def generate_batch(batch):\n",
        "    label_list, text_list = [], []\n",
        "    for (_text, _label) in batch:\n",
        "        label_list.append(int(_label))\n",
        "        text_list.append(torch.tensor(vocab(tokenizer(_text)), dtype=torch.int64))\n",
        "    text_list = pad_sequence(text_list, padding_value=0).transpose(0,1)\n",
        "    label_list = torch.tensor(label_list, dtype=torch.int64)\n",
        "    return text_list.to(device), label_list.to(device)"
      ],
      "metadata": {
        "id": "vLAnNCnWGK4K"
      },
      "execution_count": null,
      "outputs": []
    },
    {
      "cell_type": "code",
      "source": [
        "vocab(['Seagate', 'ships', 'world', 'first'])"
      ],
      "metadata": {
        "id": "okzFxGFCkV6o",
        "colab": {
          "base_uri": "https://localhost:8080/"
        },
        "outputId": "ef465900-3836-4b16-f59b-b33319f1df03"
      },
      "execution_count": null,
      "outputs": [
        {
          "output_type": "execute_result",
          "data": {
            "text/plain": [
              "[0, 4033, 50, 47]"
            ]
          },
          "metadata": {},
          "execution_count": 7
        }
      ]
    },
    {
      "cell_type": "code",
      "source": [
        "num_class = len(set([label for (text, label) in train_dataset]))\n",
        "vocab_size = len(vocab)\n",
        "emsize = 64"
      ],
      "metadata": {
        "id": "hKiQgRzFGVXu"
      },
      "execution_count": null,
      "outputs": []
    },
    {
      "cell_type": "code",
      "source": [
        "trainloader = DataLoader(train_dataset, batch_size=8, shuffle=True, collate_fn=generate_batch)\n",
        "testloader = DataLoader(test_dataset, batch_size=8, shuffle=True, collate_fn=generate_batch)"
      ],
      "metadata": {
        "id": "3NPVd-VDkkRh"
      },
      "execution_count": null,
      "outputs": []
    },
    {
      "cell_type": "code",
      "source": [
        "class SimplifiedAttention(nn.Module):\n",
        "    def __init__(self, D):\n",
        "      super(SimplifiedAttention, self).__init__()\n",
        "      self.D = D\n",
        "      self.q = nn.Linear(D, D)\n",
        "      self.k = nn.Linear(D, D)\n",
        "      self.v = nn.Linear(D, D)\n",
        "\n",
        "    def forward(self, X):\n",
        "      Q = self.q(X)\n",
        "      K = self.k(X)\n",
        "      V = self.v(X)\n",
        "      S = Q @ torch.transpose(K, 1, 2) / (self.D ** 0.5)\n",
        "      A = F.softmax(S, dim=-1)\n",
        "      Y = A @ V\n",
        "      return Y"
      ],
      "metadata": {
        "id": "sLhulhBWxWae"
      },
      "execution_count": null,
      "outputs": []
    },
    {
      "cell_type": "code",
      "source": [
        "class TransformerLayer(nn.Module):\n",
        "    def __init__(self, D):\n",
        "        super(TransformerLayer, self).__init__()\n",
        "        self.sa = SimplifiedAttention(D)\n",
        "        self.ln1 = nn.LayerNorm(D)\n",
        "        self.linear1 = nn.Linear(D, 2*D)\n",
        "        self.linear2 = nn.Linear(2*D, D)\n",
        "        self.relu = nn.ReLU()\n",
        "        self.ln2 = nn.LayerNorm(D)\n",
        "\n",
        "    def forward(self, X):\n",
        "        h = self.sa(X) + X\n",
        "        h = self.ln1(h)\n",
        "        h = self.linear2(self.relu(self.linear1(h))) + h\n",
        "        output = self.ln2(h)\n",
        "        return output"
      ],
      "metadata": {
        "id": "Vado2jrBOKWr"
      },
      "execution_count": null,
      "outputs": []
    },
    {
      "cell_type": "code",
      "source": [
        "class Model(nn.Module):\n",
        "    def __init__(self, vocab_size, embed_dim, num_class):\n",
        "        super(Model, self).__init__()\n",
        "        self.embedding = nn.Embedding(vocab_size, embed_dim)\n",
        "        self.fc = nn.Linear(embed_dim, num_class)\n",
        "        self.trans1 = TransformerLayer(embed_dim)\n",
        "        self.trans2 = TransformerLayer(embed_dim)\n",
        "        self.trans3 = TransformerLayer(embed_dim)\n",
        "\n",
        "    def forward(self, input):\n",
        "        embedded = self.embedding(input)\n",
        "        h = self.trans1(embedded)\n",
        "        h = self.trans2(h)\n",
        "        h = self.trans3(h)\n",
        "        avg_emb = h.mean(1)\n",
        "        output = self.fc(avg_emb)\n",
        "        return output"
      ],
      "metadata": {
        "id": "1kXEmlD8BPml"
      },
      "execution_count": null,
      "outputs": []
    },
    {
      "cell_type": "code",
      "source": [
        "model = Model(vocab_size, emsize, num_class).to(device)\n",
        "criterion = torch.nn.CrossEntropyLoss()\n",
        "optimizer = torch.optim.Adam(model.parameters())"
      ],
      "metadata": {
        "id": "ml68EHpQyhUW"
      },
      "execution_count": null,
      "outputs": []
    },
    {
      "cell_type": "code",
      "source": [
        "def train(dataloader):\n",
        "    model.train()\n",
        "    total_acc, total_count = 0, 0\n",
        "    log_interval = 500\n",
        "\n",
        "    for idx, (input, target) in enumerate(dataloader):\n",
        "        output = model(input)\n",
        "        loss = criterion(output, target)\n",
        "        optimizer.zero_grad()\n",
        "        loss.backward()\n",
        "        optimizer.step()\n",
        "        total_acc += (output.argmax(1) == target).sum().item()\n",
        "        total_count += target.size(0)\n",
        "        if idx % log_interval == 0 and idx > 0:\n",
        "            print('Train acc: {:8.3f} (batch {:5d}/{:5d})'.format(total_acc/total_count, idx, len(dataloader)))\n",
        "            \n",
        "def test(dataloader):\n",
        "    model.eval()\n",
        "    total_acc, total_count = 0, 0\n",
        "\n",
        "    with torch.no_grad():\n",
        "        for idx, (input, target) in enumerate(dataloader):\n",
        "            output = model(input)\n",
        "            total_acc += (output.argmax(1) == target).sum().item()\n",
        "            total_count += target.size(0)\n",
        "    print('Test acc: {:8.3f}'.format(total_acc/total_count))"
      ],
      "metadata": {
        "id": "tNDPtnN-ysp9"
      },
      "execution_count": null,
      "outputs": []
    },
    {
      "cell_type": "code",
      "source": [
        "for epoch in range(5):\n",
        "    print(\"Epoch {}\".format(epoch))\n",
        "    train(trainloader)\n",
        "    test(testloader)"
      ],
      "metadata": {
        "id": "GW3tFPtky83b",
        "colab": {
          "base_uri": "https://localhost:8080/",
          "height": 938
        },
        "outputId": "fa706d74-3f98-44f5-df83-0b648b2b2e61"
      },
      "execution_count": null,
      "outputs": [
        {
          "output_type": "stream",
          "name": "stdout",
          "text": [
            "Epoch 0\n",
            "Train acc:    0.488 (batch   500/15000)\n",
            "Train acc:    0.600 (batch  1000/15000)\n",
            "Train acc:    0.661 (batch  1500/15000)\n",
            "Train acc:    0.698 (batch  2000/15000)\n",
            "Train acc:    0.725 (batch  2500/15000)\n",
            "Train acc:    0.745 (batch  3000/15000)\n",
            "Train acc:    0.759 (batch  3500/15000)\n",
            "Train acc:    0.769 (batch  4000/15000)\n",
            "Train acc:    0.778 (batch  4500/15000)\n",
            "Train acc:    0.787 (batch  5000/15000)\n",
            "Train acc:    0.794 (batch  5500/15000)\n",
            "Train acc:    0.801 (batch  6000/15000)\n",
            "Train acc:    0.807 (batch  6500/15000)\n",
            "Train acc:    0.812 (batch  7000/15000)\n",
            "Train acc:    0.817 (batch  7500/15000)\n",
            "Train acc:    0.821 (batch  8000/15000)\n",
            "Train acc:    0.824 (batch  8500/15000)\n",
            "Train acc:    0.828 (batch  9000/15000)\n",
            "Train acc:    0.831 (batch  9500/15000)\n",
            "Train acc:    0.834 (batch 10000/15000)\n",
            "Train acc:    0.836 (batch 10500/15000)\n",
            "Train acc:    0.839 (batch 11000/15000)\n",
            "Train acc:    0.841 (batch 11500/15000)\n",
            "Train acc:    0.843 (batch 12000/15000)\n",
            "Train acc:    0.845 (batch 12500/15000)\n",
            "Train acc:    0.847 (batch 13000/15000)\n",
            "Train acc:    0.849 (batch 13500/15000)\n",
            "Train acc:    0.851 (batch 14000/15000)\n",
            "Train acc:    0.852 (batch 14500/15000)\n",
            "Test acc:    0.902\n",
            "Epoch 1\n"
          ]
        },
        {
          "output_type": "error",
          "ename": "KeyboardInterrupt",
          "evalue": "ignored",
          "traceback": [
            "\u001b[0;31m---------------------------------------------------------------------------\u001b[0m",
            "\u001b[0;31mKeyboardInterrupt\u001b[0m                         Traceback (most recent call last)",
            "\u001b[0;32m<ipython-input-19-b0df3a379f28>\u001b[0m in \u001b[0;36m<module>\u001b[0;34m\u001b[0m\n\u001b[1;32m      1\u001b[0m \u001b[0;32mfor\u001b[0m \u001b[0mepoch\u001b[0m \u001b[0;32min\u001b[0m \u001b[0mrange\u001b[0m\u001b[0;34m(\u001b[0m\u001b[0;36m5\u001b[0m\u001b[0;34m)\u001b[0m\u001b[0;34m:\u001b[0m\u001b[0;34m\u001b[0m\u001b[0;34m\u001b[0m\u001b[0m\n\u001b[1;32m      2\u001b[0m     \u001b[0mprint\u001b[0m\u001b[0;34m(\u001b[0m\u001b[0;34m\"Epoch {}\"\u001b[0m\u001b[0;34m.\u001b[0m\u001b[0mformat\u001b[0m\u001b[0;34m(\u001b[0m\u001b[0mepoch\u001b[0m\u001b[0;34m)\u001b[0m\u001b[0;34m)\u001b[0m\u001b[0;34m\u001b[0m\u001b[0;34m\u001b[0m\u001b[0m\n\u001b[0;32m----> 3\u001b[0;31m     \u001b[0mtrain\u001b[0m\u001b[0;34m(\u001b[0m\u001b[0mtrainloader\u001b[0m\u001b[0;34m)\u001b[0m\u001b[0;34m\u001b[0m\u001b[0;34m\u001b[0m\u001b[0m\n\u001b[0m\u001b[1;32m      4\u001b[0m     \u001b[0mtest\u001b[0m\u001b[0;34m(\u001b[0m\u001b[0mtestloader\u001b[0m\u001b[0;34m)\u001b[0m\u001b[0;34m\u001b[0m\u001b[0;34m\u001b[0m\u001b[0m\n",
            "\u001b[0;32m<ipython-input-18-6913acba91f4>\u001b[0m in \u001b[0;36mtrain\u001b[0;34m(dataloader)\u001b[0m\n\u001b[1;32m      8\u001b[0m         \u001b[0mloss\u001b[0m \u001b[0;34m=\u001b[0m \u001b[0mcriterion\u001b[0m\u001b[0;34m(\u001b[0m\u001b[0moutput\u001b[0m\u001b[0;34m,\u001b[0m \u001b[0mtarget\u001b[0m\u001b[0;34m)\u001b[0m\u001b[0;34m\u001b[0m\u001b[0;34m\u001b[0m\u001b[0m\n\u001b[1;32m      9\u001b[0m         \u001b[0moptimizer\u001b[0m\u001b[0;34m.\u001b[0m\u001b[0mzero_grad\u001b[0m\u001b[0;34m(\u001b[0m\u001b[0;34m)\u001b[0m\u001b[0;34m\u001b[0m\u001b[0;34m\u001b[0m\u001b[0m\n\u001b[0;32m---> 10\u001b[0;31m         \u001b[0mloss\u001b[0m\u001b[0;34m.\u001b[0m\u001b[0mbackward\u001b[0m\u001b[0;34m(\u001b[0m\u001b[0;34m)\u001b[0m\u001b[0;34m\u001b[0m\u001b[0;34m\u001b[0m\u001b[0m\n\u001b[0m\u001b[1;32m     11\u001b[0m         \u001b[0moptimizer\u001b[0m\u001b[0;34m.\u001b[0m\u001b[0mstep\u001b[0m\u001b[0;34m(\u001b[0m\u001b[0;34m)\u001b[0m\u001b[0;34m\u001b[0m\u001b[0;34m\u001b[0m\u001b[0m\n\u001b[1;32m     12\u001b[0m         \u001b[0mtotal_acc\u001b[0m \u001b[0;34m+=\u001b[0m \u001b[0;34m(\u001b[0m\u001b[0moutput\u001b[0m\u001b[0;34m.\u001b[0m\u001b[0margmax\u001b[0m\u001b[0;34m(\u001b[0m\u001b[0;36m1\u001b[0m\u001b[0;34m)\u001b[0m \u001b[0;34m==\u001b[0m \u001b[0mtarget\u001b[0m\u001b[0;34m)\u001b[0m\u001b[0;34m.\u001b[0m\u001b[0msum\u001b[0m\u001b[0;34m(\u001b[0m\u001b[0;34m)\u001b[0m\u001b[0;34m.\u001b[0m\u001b[0mitem\u001b[0m\u001b[0;34m(\u001b[0m\u001b[0;34m)\u001b[0m\u001b[0;34m\u001b[0m\u001b[0;34m\u001b[0m\u001b[0m\n",
            "\u001b[0;32m/usr/local/lib/python3.9/dist-packages/torch/_tensor.py\u001b[0m in \u001b[0;36mbackward\u001b[0;34m(self, gradient, retain_graph, create_graph, inputs)\u001b[0m\n\u001b[1;32m    486\u001b[0m                 \u001b[0minputs\u001b[0m\u001b[0;34m=\u001b[0m\u001b[0minputs\u001b[0m\u001b[0;34m,\u001b[0m\u001b[0;34m\u001b[0m\u001b[0;34m\u001b[0m\u001b[0m\n\u001b[1;32m    487\u001b[0m             )\n\u001b[0;32m--> 488\u001b[0;31m         torch.autograd.backward(\n\u001b[0m\u001b[1;32m    489\u001b[0m             \u001b[0mself\u001b[0m\u001b[0;34m,\u001b[0m \u001b[0mgradient\u001b[0m\u001b[0;34m,\u001b[0m \u001b[0mretain_graph\u001b[0m\u001b[0;34m,\u001b[0m \u001b[0mcreate_graph\u001b[0m\u001b[0;34m,\u001b[0m \u001b[0minputs\u001b[0m\u001b[0;34m=\u001b[0m\u001b[0minputs\u001b[0m\u001b[0;34m\u001b[0m\u001b[0;34m\u001b[0m\u001b[0m\n\u001b[1;32m    490\u001b[0m         )\n",
            "\u001b[0;32m/usr/local/lib/python3.9/dist-packages/torch/autograd/__init__.py\u001b[0m in \u001b[0;36mbackward\u001b[0;34m(tensors, grad_tensors, retain_graph, create_graph, grad_variables, inputs)\u001b[0m\n\u001b[1;32m    195\u001b[0m     \u001b[0;31m# some Python versions print out the first line of a multi-line function\u001b[0m\u001b[0;34m\u001b[0m\u001b[0;34m\u001b[0m\u001b[0m\n\u001b[1;32m    196\u001b[0m     \u001b[0;31m# calls in the traceback and some print out the last line\u001b[0m\u001b[0;34m\u001b[0m\u001b[0;34m\u001b[0m\u001b[0m\n\u001b[0;32m--> 197\u001b[0;31m     Variable._execution_engine.run_backward(  # Calls into the C++ engine to run the backward pass\n\u001b[0m\u001b[1;32m    198\u001b[0m         \u001b[0mtensors\u001b[0m\u001b[0;34m,\u001b[0m \u001b[0mgrad_tensors_\u001b[0m\u001b[0;34m,\u001b[0m \u001b[0mretain_graph\u001b[0m\u001b[0;34m,\u001b[0m \u001b[0mcreate_graph\u001b[0m\u001b[0;34m,\u001b[0m \u001b[0minputs\u001b[0m\u001b[0;34m,\u001b[0m\u001b[0;34m\u001b[0m\u001b[0;34m\u001b[0m\u001b[0m\n\u001b[1;32m    199\u001b[0m         allow_unreachable=True, accumulate_grad=True)  # Calls into the C++ engine to run the backward pass\n",
            "\u001b[0;31mKeyboardInterrupt\u001b[0m: "
          ]
        }
      ]
    }
  ]
}